{
 "cells": [
  {
   "cell_type": "code",
   "execution_count": 1,
   "id": "1c08877c-045f-445e-91a3-86c06443239d",
   "metadata": {},
   "outputs": [
    {
     "data": {
      "text/plain": [
       "<bound method NDFrame.head of             id       region              leve   type  \\\n",
       "0            1         حائل    التربية الخاصة  حكومي   \n",
       "1            2  مكة المكرمة  المرحلة المتوسطة  حكومي   \n",
       "2            3  مكة المكرمة    التربية الخاصة  حكومي   \n",
       "3            4         عسير    التربية الخاصة  حكومي   \n",
       "4            5  مكة المكرمة    التربية الخاصة  حكومي   \n",
       "...        ...          ...               ...    ...   \n",
       "140433  140434        الجوف  المرحلة الثانوية   أهلي   \n",
       "140434  140435        الجوف  المرحلة الثانوية  حكومي   \n",
       "140435  140436  مكة المكرمة  المرحلة الثانوية  حكومي   \n",
       "140436  140437         حائل  المرحلة الثانوية  حكومي   \n",
       "140437  140438       الرياض  المرحلة الثانوية  حكومي   \n",
       "\n",
       "                                        office gender school_type    edu_type  \\\n",
       "0                مكتب التربية والتعليم بالشمال   بنين  تربية خاصة  تربية خاصة   \n",
       "1       مكتب التربية والتعليم جنوب مكة المكرمة   بنات       نهاري  تعليم عام    \n",
       "2                                      القنفذة   بنين  تربية خاصة  تربية خاصة   \n",
       "3                                        محايل   بنات  تربية خاصة  تربية خاصة   \n",
       "4                                      القنفذة   بنين  تربية خاصة  تربية خاصة   \n",
       "...                                        ...    ...         ...         ...   \n",
       "140433                   إدارة الإشراف التربوي   بنين       نهاري  تعليم عام    \n",
       "140434                   إدارة الإشراف التربوي   بنين       نهاري  تعليم عام    \n",
       "140435            مكتب التعليم غرب مكة المكرمة   بنات       نهاري  تعليم عام    \n",
       "140436                                شرق حائل   بنات       نهاري  تعليم عام    \n",
       "140437                  مكتب التعليم بالقويعية   بنات       نهاري  تعليم عام    \n",
       "\n",
       "       ude_sys  saudi  not_saudi  teachers  year  \n",
       "0          عام      4          0         4  1437  \n",
       "1          عام     17          0        17  1437  \n",
       "2          عام      6          0         6  1437  \n",
       "3          عام      1          0         1  1437  \n",
       "4          عام      1          0         1  1437  \n",
       "...        ...    ...        ...       ...   ...  \n",
       "140433  مقررات      1          0         1  1440  \n",
       "140434  مقررات      1          0         1  1440  \n",
       "140435  مقررات     44          0        44  1440  \n",
       "140436  مقررات     38          0        38  1440  \n",
       "140437  مقررات      8          0         8  1440  \n",
       "\n",
       "[140438 rows x 13 columns]>"
      ]
     },
     "execution_count": 1,
     "metadata": {},
     "output_type": "execute_result"
    }
   ],
   "source": [
    "import pandas as pd\n",
    "import numpy as np\n",
    "import matplotlib.pyplot as plt\n",
    "import seaborn as sns\n",
    "import arabic_reshaper\n",
    "from bidi.algorithm import get_display\n",
    "\n",
    "#load dataset\n",
    "df = pd.read_csv('number_of_teachers.csv')\n",
    "df.head"
   ]
  },
  {
   "cell_type": "code",
   "execution_count": 2,
   "id": "48e29b80-0b84-4a3a-b20a-5fb81dceaee8",
   "metadata": {},
   "outputs": [
    {
     "name": "stdout",
     "output_type": "stream",
     "text": [
      "number of rows (140438, 13)\n",
      "\n",
      " Data types:\n",
      "  id              int64\n",
      "region         object\n",
      "leve           object\n",
      "type           object\n",
      "office         object\n",
      "gender         object\n",
      "school_type    object\n",
      "edu_type       object\n",
      "ude_sys        object\n",
      "saudi           int64\n",
      "not_saudi       int64\n",
      "teachers        int64\n",
      "year            int64\n",
      "dtype: object\n",
      "Null counts per column:\n",
      "id             0\n",
      "region         0\n",
      "leve           0\n",
      "type           0\n",
      "office         7\n",
      "gender         0\n",
      "school_type    0\n",
      "edu_type       0\n",
      "ude_sys        0\n",
      "saudi          0\n",
      "not_saudi      0\n",
      "teachers       0\n",
      "year           0\n",
      "dtype: int64\n"
     ]
    }
   ],
   "source": [
    "#explore data\n",
    "print('number of rows',df.shape)\n",
    "print(\"\\n Data types:\\n \",df.dtypes)\n",
    "null_counts = df.isnull().sum()\n",
    "print(\"Null counts per column:\")\n",
    "print(null_counts)\n",
    "\n"
   ]
  },
  {
   "cell_type": "code",
   "execution_count": 3,
   "id": "e4fabb85-45b4-4d5c-a8e0-472f4b4604d3",
   "metadata": {},
   "outputs": [
    {
     "name": "stdout",
     "output_type": "stream",
     "text": [
      "\n",
      " First rows\n",
      "    id       region              leve   type  \\\n",
      "0   1         حائل    التربية الخاصة  حكومي   \n",
      "1   2  مكة المكرمة  المرحلة المتوسطة  حكومي   \n",
      "2   3  مكة المكرمة    التربية الخاصة  حكومي   \n",
      "3   4         عسير    التربية الخاصة  حكومي   \n",
      "4   5  مكة المكرمة    التربية الخاصة  حكومي   \n",
      "\n",
      "                                   office gender school_type    edu_type  \\\n",
      "0           مكتب التربية والتعليم بالشمال   بنين  تربية خاصة  تربية خاصة   \n",
      "1  مكتب التربية والتعليم جنوب مكة المكرمة   بنات       نهاري  تعليم عام    \n",
      "2                                 القنفذة   بنين  تربية خاصة  تربية خاصة   \n",
      "3                                   محايل   بنات  تربية خاصة  تربية خاصة   \n",
      "4                                 القنفذة   بنين  تربية خاصة  تربية خاصة   \n",
      "\n",
      "  ude_sys  saudi  not_saudi  teachers  year  \n",
      "0     عام      4          0         4  1437  \n",
      "1     عام     17          0        17  1437  \n",
      "2     عام      6          0         6  1437  \n",
      "3     عام      1          0         1  1437  \n",
      "4     عام      1          0         1  1437  \n"
     ]
    }
   ],
   "source": [
    "#examine the first rows\n",
    "print(\"\\n First rows\\n\",df.head())"
   ]
  },
  {
   "cell_type": "code",
   "execution_count": 4,
   "id": "5b245177-ce1c-48a3-afdf-4832e07aebc8",
   "metadata": {},
   "outputs": [
    {
     "name": "stdout",
     "output_type": "stream",
     "text": [
      "There are 7 missing values in the dataset.\n",
      "No duplicate entries in the dataset.\n"
     ]
    }
   ],
   "source": [
    "#delete missing values\n",
    "missing_values = df.isnull().sum().sum()\n",
    "if missing_values == 0:\n",
    "    print(\"No missing values in the dataset.\")\n",
    "else:\n",
    "    print(\"There are {} missing values in the dataset.\".format(missing_values))\n",
    "\n",
    "duplicate_entries = df.duplicated().sum()\n",
    "if duplicate_entries == 0:\n",
    "    print(\"No duplicate entries in the dataset.\")\n",
    "else:\n",
    "    print(\"There are {} duplicate entries in the dataset.\".format(duplicate_entries))\n"
   ]
  },
  {
   "cell_type": "code",
   "execution_count": 5,
   "id": "c055ac73-a648-4e84-8ffc-21e7d3dc578c",
   "metadata": {},
   "outputs": [],
   "source": [
    "string_columns = df.select_dtypes(include='object').columns\n",
    "mode_values = df[string_columns].mode().iloc[0]\n",
    "\n",
    "df[string_columns] = df[string_columns].fillna(mode_values)\n"
   ]
  },
  {
   "cell_type": "code",
   "execution_count": 6,
   "id": "006f32f8-c1ee-4ca1-bd5f-ed76bd951abb",
   "metadata": {},
   "outputs": [
    {
     "name": "stdout",
     "output_type": "stream",
     "text": [
      "No missing values in the dataset.\n",
      "No duplicate entries in the dataset.\n"
     ]
    }
   ],
   "source": [
    "missing_values = df.isnull().sum().sum()\n",
    "if missing_values == 0:\n",
    "    print(\"No missing values in the dataset.\")\n",
    "else:\n",
    "    print(\"There are {} missing values in the dataset.\".format(missing_values))\n",
    "\n",
    "duplicate_entries = df.duplicated().sum()\n",
    "if duplicate_entries == 0:\n",
    "    print(\"No duplicate entries in the dataset.\")\n",
    "else:\n",
    "    print(\"There are {} duplicate entries in the dataset.\".format(duplicate_entries))\n"
   ]
  },
  {
   "cell_type": "code",
   "execution_count": 7,
   "id": "3fc2a6eb-867b-4d21-996f-899c10060428",
   "metadata": {},
   "outputs": [
    {
     "name": "stdout",
     "output_type": "stream",
     "text": [
      "   id       region              leve   type  \\\n",
      "0   1         حائل    التربية الخاصة  حكومي   \n",
      "1   2  مكة المكرمة  المرحلة المتوسطة  حكومي   \n",
      "2   3  مكة المكرمة    التربية الخاصة  حكومي   \n",
      "3   4         عسير    التربية الخاصة  حكومي   \n",
      "4   5  مكة المكرمة    التربية الخاصة  حكومي   \n",
      "\n",
      "                                   office gender school_type    edu_type  \\\n",
      "0           مكتب التربية والتعليم بالشمال   بنين  تربية خاصة  تربية خاصة   \n",
      "1  مكتب التربية والتعليم جنوب مكة المكرمة   بنات       نهاري  تعليم عام    \n",
      "2                                 القنفذة   بنين  تربية خاصة  تربية خاصة   \n",
      "3                                   محايل   بنات  تربية خاصة  تربية خاصة   \n",
      "4                                 القنفذة   بنين  تربية خاصة  تربية خاصة   \n",
      "\n",
      "  ude_sys  saudi  not_saudi  year  \n",
      "0     عام      4          0  1437  \n",
      "1     عام     17          0  1437  \n",
      "2     عام      6          0  1437  \n",
      "3     عام      1          0  1437  \n",
      "4     عام      1          0  1437  \n"
     ]
    }
   ],
   "source": [
    "#drop unnecessary colums\n",
    "df = df.drop(columns='teachers')\n",
    "\n",
    "print(df.head())\n"
   ]
  },
  {
   "cell_type": "code",
   "execution_count": 10,
   "id": "b74dfe47-3bee-48d7-8320-13a2b8d60343",
   "metadata": {},
   "outputs": [
    {
     "data": {
      "image/png": "[encoded data removed]",
      "text/plain": [
       "<Figure size 1200x600 with 1 Axes>"
      ]
     },
     "metadata": {},
     "output_type": "display_data"
    }
   ],
   "source": [
    "#data visualization\n",
    "category_counts = df['region'].value_counts()\n",
    "\n",
    "reshaped_labels = [get_display(arabic_reshaper.reshape(label)) for label in category_counts.index]\n",
    "\n",
    "plt.figure(figsize=(12, 6))\n",
    "ax = sns.countplot(x='region', data=df)\n",
    "\n",
    "ax.set_xticklabels(reshaped_labels)\n",
    "\n",
    "# Set title and axis labels\n",
    "plt.title(get_display(arabic_reshaper.reshape('المناطق ')))\n",
    "plt.xlabel(get_display(arabic_reshaper.reshape('region')))\n",
    "plt.ylabel(get_display(arabic_reshaper.reshape('count')))\n",
    "plt.show()\n"
   ]
  },
  {
   "cell_type": "code",
   "execution_count": null,
   "id": "9bd81976-49cc-45fe-a200-e7da3e36265a",
   "metadata": {},
   "outputs": [],
   "source": []
  }
 ],
 "metadata": {
  "kernelspec": {
   "display_name": "Python 3 (ipykernel)",
   "language": "python",
   "name": "python3"
  },
  "language_info": {
   "codemirror_mode": {
    "name": "ipython",
    "version": 3
   },
   "file_extension": ".py",
   "mimetype": "text/x-python",
   "name": "python",
   "nbconvert_exporter": "python",
   "pygments_lexer": "ipython3",
   "version": "3.11.7"
  }
 },
 "nbformat": 4,
 "nbformat_minor": 5
}
