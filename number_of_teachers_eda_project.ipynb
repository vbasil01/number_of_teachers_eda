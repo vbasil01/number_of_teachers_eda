{
 "cells": [
  {
   "cell_type": "code",
   "execution_count": 100,
   "id": "4d7503c9-ab04-422c-812d-dcc8d5fe735c",
   "metadata": {},
   "outputs": [
    {
     "data": {
      "text/plain": [
       "<bound method NDFrame.head of             id       region              leve   type  \\\n",
       "0            1         حائل    التربية الخاصة  حكومي   \n",
       "1            2  مكة المكرمة  المرحلة المتوسطة  حكومي   \n",
       "2            3  مكة المكرمة    التربية الخاصة  حكومي   \n",
       "3            4         عسير    التربية الخاصة  حكومي   \n",
       "4            5  مكة المكرمة    التربية الخاصة  حكومي   \n",
       "...        ...          ...               ...    ...   \n",
       "140433  140434        الجوف  المرحلة الثانوية   أهلي   \n",
       "140434  140435        الجوف  المرحلة الثانوية  حكومي   \n",
       "140435  140436  مكة المكرمة  المرحلة الثانوية  حكومي   \n",
       "140436  140437         حائل  المرحلة الثانوية  حكومي   \n",
       "140437  140438       الرياض  المرحلة الثانوية  حكومي   \n",
       "\n",
       "                                        office gender school_type    edu_type  \\\n",
       "0                مكتب التربية والتعليم بالشمال   بنين  تربية خاصة  تربية خاصة   \n",
       "1       مكتب التربية والتعليم جنوب مكة المكرمة   بنات       نهاري  تعليم عام    \n",
       "2                                      القنفذة   بنين  تربية خاصة  تربية خاصة   \n",
       "3                                        محايل   بنات  تربية خاصة  تربية خاصة   \n",
       "4                                      القنفذة   بنين  تربية خاصة  تربية خاصة   \n",
       "...                                        ...    ...         ...         ...   \n",
       "140433                   إدارة الإشراف التربوي   بنين       نهاري  تعليم عام    \n",
       "140434                   إدارة الإشراف التربوي   بنين       نهاري  تعليم عام    \n",
       "140435            مكتب التعليم غرب مكة المكرمة   بنات       نهاري  تعليم عام    \n",
       "140436                                شرق حائل   بنات       نهاري  تعليم عام    \n",
       "140437                  مكتب التعليم بالقويعية   بنات       نهاري  تعليم عام    \n",
       "\n",
       "       ude_sys  saudi  not_saudi  teachers  year  \n",
       "0          عام      4          0         4  1437  \n",
       "1          عام     17          0        17  1437  \n",
       "2          عام      6          0         6  1437  \n",
       "3          عام      1          0         1  1437  \n",
       "4          عام      1          0         1  1437  \n",
       "...        ...    ...        ...       ...   ...  \n",
       "140433  مقررات      1          0         1  1440  \n",
       "140434  مقررات      1          0         1  1440  \n",
       "140435  مقررات     44          0        44  1440  \n",
       "140436  مقررات     38          0        38  1440  \n",
       "140437  مقررات      8          0         8  1440  \n",
       "\n",
       "[140438 rows x 13 columns]>"
      ]
     },
     "execution_count": 100,
     "metadata": {},
     "output_type": "execute_result"
    }
   ],
   "source": [
    "import pandas as pd\n",
    "import numpy as np\n",
    "import matplotlib.pyplot as plt\n",
    "import seaborn as sns\n",
    "import arabic_reshaper\n",
    "from bidi.algorithm import get_display\n",
    "\n",
    "#load dataset\n",
    "df = pd.read_csv('number_of_teachers.csv')\n",
    "df.head"
   ]
  },
  {
   "cell_type": "code",
   "execution_count": 101,
   "id": "b75ea19f-6acc-43cc-9503-93b987fba794",
   "metadata": {},
   "outputs": [
    {
     "name": "stdout",
     "output_type": "stream",
     "text": [
      "number of rows (140438, 13)\n",
      "\n",
      " Data types:\n",
      "  id              int64\n",
      "region         object\n",
      "leve           object\n",
      "type           object\n",
      "office         object\n",
      "gender         object\n",
      "school_type    object\n",
      "edu_type       object\n",
      "ude_sys        object\n",
      "saudi           int64\n",
      "not_saudi       int64\n",
      "teachers        int64\n",
      "year            int64\n",
      "dtype: object\n",
      "Null counts per column:\n",
      "id             0\n",
      "region         0\n",
      "leve           0\n",
      "type           0\n",
      "office         7\n",
      "gender         0\n",
      "school_type    0\n",
      "edu_type       0\n",
      "ude_sys        0\n",
      "saudi          0\n",
      "not_saudi      0\n",
      "teachers       0\n",
      "year           0\n",
      "dtype: int64\n"
     ]
    }
   ],
   "source": [
    "#explore data\n",
    "print('number of rows',df.shape)\n",
    "print(\"\\n Data types:\\n \",df.dtypes)\n",
    "null_counts = df.isnull().sum()\n",
    "print(\"Null counts per column:\")\n",
    "print(null_counts)\n",
    "\n"
   ]
  },
  {
   "cell_type": "code",
   "execution_count": 4,
   "id": "c9c1f600-412a-4fd1-958f-e3b73f08884c",
   "metadata": {},
   "outputs": [
    {
     "name": "stdout",
     "output_type": "stream",
     "text": [
      "\n",
      " First rows\n",
      "     id المنطقة الإدارية           المرحلة السلطة  \\\n",
      "0  1.0             حائل    التربية الخاصة  حكومي   \n",
      "1  2.0      مكة المكرمة  المرحلة المتوسطة  حكومي   \n",
      "2  3.0      مكة المكرمة    التربية الخاصة  حكومي   \n",
      "3  4.0             عسير    التربية الخاصة  حكومي   \n",
      "4  5.0      مكة المكرمة    التربية الخاصة  حكومي   \n",
      "\n",
      "                             مكتب التربية الجنس نوع المدرسة نوع التعليم  \\\n",
      "0           مكتب التربية والتعليم بالشمال  بنين  تربية خاصة  تربية خاصة   \n",
      "1  مكتب التربية والتعليم جنوب مكة المكرمة  بنات       نهاري  تعليم عام    \n",
      "2                                 القنفذة  بنين  تربية خاصة  تربية خاصة   \n",
      "3                                   محايل  بنات  تربية خاصة  تربية خاصة   \n",
      "4                                 القنفذة  بنين  تربية خاصة  تربية خاصة   \n",
      "\n",
      "  نظام الدراسة  معلم سعودي  معلم غير سعودي  معلمين جملة   السنة  \n",
      "0          عام         4.0             0.0          4.0  1437.0  \n",
      "1          عام        17.0             0.0         17.0  1437.0  \n",
      "2          عام         6.0             0.0          6.0  1437.0  \n",
      "3          عام         1.0             0.0          1.0  1437.0  \n",
      "4          عام         1.0             0.0          1.0  1437.0  \n"
     ]
    }
   ],
   "source": [
    "#examine the first rows\n",
    "print(\"\\n First rows\\n\",df.head())"
   ]
  },
  {
   "cell_type": "code",
   "execution_count": 103,
   "id": "6d154251-e2dc-4ee6-9824-230623fdcf51",
   "metadata": {},
   "outputs": [
    {
     "name": "stdout",
     "output_type": "stream",
     "text": [
      "There are 7 missing values in the dataset.\n",
      "No duplicate entries in the dataset.\n"
     ]
    }
   ],
   "source": [
    "#delete missing values\n",
    "missing_values = df.isnull().sum().sum()\n",
    "if missing_values == 0:\n",
    "    print(\"No missing values in the dataset.\")\n",
    "else:\n",
    "    print(\"There are {} missing values in the dataset.\".format(missing_values))\n",
    "\n",
    "duplicate_entries = df.duplicated().sum()\n",
    "if duplicate_entries == 0:\n",
    "    print(\"No duplicate entries in the dataset.\")\n",
    "else:\n",
    "    print(\"There are {} duplicate entries in the dataset.\".format(duplicate_entries))\n"
   ]
  },
  {
   "cell_type": "code",
   "execution_count": 104,
   "id": "72b0b95b-222d-4be0-8d9b-c3beb6a35e05",
   "metadata": {},
   "outputs": [],
   "source": [
    "string_columns = df.select_dtypes(include='object').columns\n",
    "mode_values = df[string_columns].mode().iloc[0]\n",
    "\n",
    "df[string_columns] = df[string_columns].fillna(mode_values)\n"
   ]
  },
  {
   "cell_type": "code",
   "execution_count": 105,
   "id": "2f5fc6c4-2e3f-456e-8d01-2ac982f1783b",
   "metadata": {},
   "outputs": [
    {
     "name": "stdout",
     "output_type": "stream",
     "text": [
      "No missing values in the dataset.\n",
      "No duplicate entries in the dataset.\n"
     ]
    }
   ],
   "source": [
    "missing_values = df.isnull().sum().sum()\n",
    "if missing_values == 0:\n",
    "    print(\"No missing values in the dataset.\")\n",
    "else:\n",
    "    print(\"There are {} missing values in the dataset.\".format(missing_values))\n",
    "\n",
    "duplicate_entries = df.duplicated().sum()\n",
    "if duplicate_entries == 0:\n",
    "    print(\"No duplicate entries in the dataset.\")\n",
    "else:\n",
    "    print(\"There are {} duplicate entries in the dataset.\".format(duplicate_entries))\n"
   ]
  },
  {
   "cell_type": "code",
   "execution_count": 141,
   "id": "658bd56e-ad8f-48f6-b8e0-ba0bca636168",
   "metadata": {},
   "outputs": [
    {
     "name": "stdout",
     "output_type": "stream",
     "text": [
      "   id   region              leve   type  \\\n",
      "0   1  Nothing    التربية الخاصة  حكومي   \n",
      "1   2  Nothing  المرحلة المتوسطة  حكومي   \n",
      "2   3  Nothing    التربية الخاصة  حكومي   \n",
      "3   4  Nothing    التربية الخاصة  حكومي   \n",
      "4   5  Nothing    التربية الخاصة  حكومي   \n",
      "\n",
      "                                   office gender school_type    edu_type  \\\n",
      "0           مكتب التربية والتعليم بالشمال   بنين  تربية خاصة  تربية خاصة   \n",
      "1  مكتب التربية والتعليم جنوب مكة المكرمة   بنات       نهاري  تعليم عام    \n",
      "2                                 القنفذة   بنين  تربية خاصة  تربية خاصة   \n",
      "3                                   محايل   بنات  تربية خاصة  تربية خاصة   \n",
      "4                                 القنفذة   بنين  تربية خاصة  تربية خاصة   \n",
      "\n",
      "  ude_sys  saudi  not_saudi  year  level  \n",
      "0     عام      4          0  1437      5  \n",
      "1     عام     17          0  1437      5  \n",
      "2     عام      6          0  1437      5  \n",
      "3     عام      1          0  1437      5  \n",
      "4     عام      1          0  1437      5  \n"
     ]
    }
   ],
   "source": [
    "#drop unnecessary colums\n",
    "df = df.drop(columns='teachers')\n",
    "\r\n",
    "print(df.head())\r\n"
   ]
  },
  {
   "cell_type": "code",
   "execution_count": 148,
   "id": "be5ebf86-1183-4321-8ccc-9ac5bd00b53f",
   "metadata": {},
   "outputs": [
    {
     "data": {
      "image/png": "[encoded data removed]",
      "text/plain": [
       "<Figure size 800x600 with 1 Axes>"
      ]
     },
     "metadata": {},
     "output_type": "display_data"
    }
   ],
   "source": [
    "#data visualization\n",
    "category_counts = df['region'].value_counts()\n",
    "\n",
    "reshaped_labels = [get_display(arabic_reshaper.reshape(label)) for label in category_counts.index]\n",
    "\n",
    "plt.figure(figsize=(8, 6))\n",
    "ax = sns.countplot(x='region', data=df)\n",
    "\n",
    "ax.set_xticklabels(reshaped_labels)\n",
    "\n",
    "# Set title and axis labels\n",
    "plt.title(get_display(arabic_reshaper.reshape('المناطق ')))\n",
    "plt.xlabel(get_display(arabic_reshaper.reshape('region')))\n",
    "plt.ylabel(get_display(arabic_reshaper.reshape('count')))\n",
    "plt.show()\n"
   ]
  },
  {
   "cell_type": "code",
   "execution_count": 145,
   "id": "afb27a18-eb54-430a-b5ec-a95d958fa095",
   "metadata": {},
   "outputs": [
    {
     "data": {
      "image/png": "[encoded data removed]",
      "text/plain": [
       "<Figure size 800x800 with 1 Axes>"
      ]
     },
     "metadata": {},
     "output_type": "display_data"
    }
   ],
   "source": [
    "#data visualization\n",
    "category_counts = df['type'].value_counts()\n",
    "\n",
    "reshaped_labels = [get_display(arabic_reshaper.reshape(label)) for label in category_counts.index]\n",
    "\n",
    "plt.figure(figsize=(8, 8))\n",
    "plt.pie(category_counts, labels=reshaped_labels, autopct='%1.1f%%', startangle=140)\n",
    "plt.title(get_display(arabic_reshaper.reshape('انواع المدارس')))\n",
    "plt.axis('equal') \n",
    "plt.show()\n"
   ]
  },
  {
   "cell_type": "code",
   "execution_count": 144,
   "id": "db8a283d-b9ac-4000-a0bf-5c33361f5c68",
   "metadata": {},
   "outputs": [
    {
     "name": "stdout",
     "output_type": "stream",
     "text": [
      "Data saved successfully to: number_of_teachers_new.csv\n"
     ]
    }
   ],
   "source": [
    "#save data\n",
    "file_path = \"number_of_teachers_new.csv\"\n",
    "\n",
    "df.to_csv(file_path, index=False)\n",
    "\n",
    "print(\"Data saved successfully to:\", file_path)\n"
   ]
  },
  {
   "cell_type": "code",
   "execution_count": null,
   "id": "5736bb93-a5a4-4b94-86d3-39fe3b6c1c02",
   "metadata": {},
   "outputs": [],
   "source": []
  }
 ],
 "metadata": {
  "kernelspec": {
   "display_name": "Python 3 (ipykernel)",
   "language": "python",
   "name": "python3"
  },
  "language_info": {
   "codemirror_mode": {
    "name": "ipython",
    "version": 3
   },
   "file_extension": ".py",
   "mimetype": "text/x-python",
   "name": "python",
   "nbconvert_exporter": "python",
   "pygments_lexer": "ipython3",
   "version": "3.11.7"
  }
 },
 "nbformat": 4,
 "nbformat_minor": 5
}
